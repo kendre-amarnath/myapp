{
 "cells": [
  {
   "cell_type": "code",
   "execution_count": 1,
   "metadata": {},
   "outputs": [
    {
     "name": "stdout",
     "output_type": "stream",
     "text": [
      "hi\n"
     ]
    }
   ],
   "source": [
    "print(\"hi\")"
   ]
  },
  {
   "cell_type": "code",
   "execution_count": 4,
   "metadata": {},
   "outputs": [],
   "source": [
    "import pandas as pd\n",
    "\n",
    "# Load the Excel file\n",
    "excel_file = \"collegewise.xlsx\"  # change to your actual filename\n",
    "xls = pd.ExcelFile(excel_file)\n",
    "\n",
    "# Merge all sheets\n",
    "merged_data = pd.DataFrame()\n",
    "\n",
    "for sheet in xls.sheet_names:\n",
    "    df = xls.parse(sheet)\n",
    "    df['Source Sheet'] = sheet  # Optional: add a column to know which sheet it came from\n",
    "    merged_data = pd.concat([merged_data, df], ignore_index=True)\n",
    "\n",
    "# Save to a new Excel file\n",
    "merged_data.to_excel(\"merged_output.xlsx\", index=False)\n"
   ]
  }
 ],
 "metadata": {
  "kernelspec": {
   "display_name": "Python 3",
   "language": "python",
   "name": "python3"
  },
  "language_info": {
   "codemirror_mode": {
    "name": "ipython",
    "version": 3
   },
   "file_extension": ".py",
   "mimetype": "text/x-python",
   "name": "python",
   "nbconvert_exporter": "python",
   "pygments_lexer": "ipython3",
   "version": "3.13.3"
  }
 },
 "nbformat": 4,
 "nbformat_minor": 2
}
